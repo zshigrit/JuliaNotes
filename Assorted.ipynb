{
 "cells": [
  {
   "cell_type": "markdown",
   "metadata": {},
   "source": [
    "### notes from a climate model run using Julia\n",
    "\n",
    "https://github.com/mitmath/18S191/blob/Fall20/lecture_notebooks/week11/01_energy_balance_model.jl\n",
    "\n",
    "\n",
    "```\n",
    "function timestep!(ebm)\n",
    "\tappend!(ebm.T, ebm.T[end] + ebm.Δt*tendency(ebm));\n",
    "\tappend!(ebm.t, ebm.t[end] + ebm.Δt);\n",
    "end;\n",
    "\n",
    "begin\n",
    "\tfunction run!(ebm::EBM, end_year::Real)\n",
    "\t\twhile ebm.t[end] < end_year\n",
    "\t\t\ttimestep!(ebm)\n",
    "\t\tend\n",
    "\tend;\n",
    "\t\n",
    "\trun!(ebm) = run!(ebm, 200.) # run for 200 years by default\n",
    "end\n",
    "\n",
    "\n",
    "\n",
    "mutable struct EBM\n",
    "\t\tT::Array{Float64, 1}\n",
    "\t\n",
    "\t\tt::Array{Float64, 1}\n",
    "\t\tΔt::Float64\n",
    "\t\n",
    "\t\tCO2::Function\n",
    "\t\n",
    "\t\tC::Float64\n",
    "\t\ta::Float64\n",
    "\t\tA::Float64\n",
    "\t\tB::Float64\n",
    "\t\tCO2_PI::Float64\n",
    "\t\n",
    "\t\tα::Float64\n",
    "\t\tS::Float64\n",
    "end;\n",
    "\n",
    "```\n"
   ]
  },
  {
   "cell_type": "markdown",
   "metadata": {},
   "source": []
  },
  {
   "cell_type": "code",
   "execution_count": null,
   "metadata": {},
   "outputs": [],
   "source": [
    "mutable struct EBM\n",
    "\t\tT::Array{Float64, 1}\n",
    "\t\n",
    "\t\tt::Array{Float64, 1}\n",
    "\t\tΔt::Float64\n",
    "\t\n",
    "\t\tCO2::Function\n",
    "\t\n",
    "\t\tC::Float64\n",
    "\t\ta::Float64\n",
    "\t\tA::Float64\n",
    "\t\tB::Float64\n",
    "\t\tCO2_PI::Float64\n",
    "\t\n",
    "\t\tα::Float64\n",
    "\t\tS::Float64\n",
    "end;\n",
    "\t\n",
    "\t# Make constant parameters optional kwargs\n",
    "\tEBM(T::Array{Float64, 1}, t::Array{Float64, 1}, Δt::Float64, CO2::Function;\n",
    "\t\tC=C, a=a, A=A, B=B, CO2_PI=CO2_PI, α=α, S=S) = (\n",
    "\t\tEBM(T, t, Δt, CO2, C, a, A, B, CO2_PI, α, S)\n",
    "\t);\n",
    "\t\n",
    "\t# Construct from float inputs for convenience\n",
    "\tEBM(T0::Float64, t0::Float64, Δt::Float64, CO2::Function;\n",
    "\t\tC=C, a=a, A=A, B=B, CO2_PI=CO2_PI, α=α, S=S) = (\n",
    "\t\tEBM([T0], [t0], Δt, CO2;\n",
    "\t\t\tC=C, a=a, A=A, B=B, CO2_PI=CO2_PI, α=α, S=S);\n",
    "\t);"
   ]
  },
  {
   "cell_type": "code",
   "execution_count": null,
   "metadata": {},
   "outputs": [],
   "source": []
  }
 ],
 "metadata": {
  "kernelspec": {
   "display_name": "Julia 1.7.1",
   "language": "julia",
   "name": "julia-1.7"
  },
  "language_info": {
   "file_extension": ".jl",
   "mimetype": "application/julia",
   "name": "julia",
   "version": "1.7.1"
  },
  "orig_nbformat": 4
 },
 "nbformat": 4,
 "nbformat_minor": 2
}
